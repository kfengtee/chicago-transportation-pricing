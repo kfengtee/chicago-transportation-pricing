{
 "cells": [
  {
   "cell_type": "code",
   "execution_count": 1,
   "id": "6d432863-8993-41c8-b879-68b5061f90c2",
   "metadata": {},
   "outputs": [],
   "source": [
    "from datetime import datetime\n",
    "import sys\n",
    "\n",
    "import geohashlite\n",
    "import matplotlib.pyplot as plt\n",
    "import matplotlib.dates as mdates\n",
    "import numpy as np\n",
    "import pandas as pd\n",
    "import plotly.express as px\n",
    "import seaborn as sns\n",
    "from sklearn.model_selection import TimeSeriesSplit\n",
    "from sklearn.metrics import mean_squared_error\n",
    "from xgboost import XGBRegressor\n",
    "\n",
    "pd.set_option(\"display.max_columns\", None)"
   ]
  },
  {
   "cell_type": "code",
   "execution_count": 2,
   "id": "1f2048f3-47b6-4147-bc96-d4b310b49dd1",
   "metadata": {},
   "outputs": [],
   "source": [
    "trip = pd.read_csv(\"data/Taxi_Trips_-_2021.csv\")\n",
    "\n",
    "# parse data\n",
    "trip['Trip Start Timestamp'] = trip['Trip Start Timestamp'].map(lambda x: datetime.strptime(x, \"%m/%d/%Y %I:%M:%S %p\") if pd.notnull(x) else None)\n",
    "trip['Trip End Timestamp'] = trip['Trip End Timestamp'].map(lambda x: datetime.strptime(x, \"%m/%d/%Y %I:%M:%S %p\") if pd.notnull(x) else None)"
   ]
  },
  {
   "cell_type": "markdown",
   "id": "086b5fed-9961-4ddf-9b13-c1a778a23293",
   "metadata": {},
   "source": [
    "# Data Cleaning "
   ]
  },
  {
   "cell_type": "code",
   "execution_count": 3,
   "id": "b758429c-9b15-47d8-8c0e-6a99785f6fb8",
   "metadata": {},
   "outputs": [],
   "source": [
    "def filter_outlier(df, colname, percentile=0.02, clip=(-sys.maxsize, sys.maxsize)):\n",
    "    \"\"\"\n",
    "    clip: (lower bound, upper bound) to clip the values\n",
    "    \n",
    "    Filter out outliers\n",
    "    Lower outer fence = Q1 - k * IQR\n",
    "    Upper outer fence = Q3 + k * IQR\n",
    "    \"\"\"\n",
    "    k = 6\n",
    "    value = df[colname]\n",
    "    q1, q3 = np.nanpercentile(value, [25, 75])\n",
    "    iqr = q3-q1\n",
    "    lower_outer_fence = max(clip[0], q1 - k * iqr)\n",
    "    upper_outer_fence = min(clip[1], q3 + k * iqr)\n",
    "    \n",
    "    print(f\"Trimming extreme values in column `{colname}`: below {round(lower_outer_fence, 2)}, or larger than {round(upper_outer_fence, 2)}\")\n",
    "    out_df = df.loc[(df[colname] < upper_outer_fence) & \n",
    "                    (df[colname] > lower_outer_fence)].copy()\n",
    "    return out_df"
   ]
  },
  {
   "cell_type": "code",
   "execution_count": 4,
   "id": "1b7555dc-62ae-44e6-b097-c8890adb4258",
   "metadata": {},
   "outputs": [
    {
     "name": "stdout",
     "output_type": "stream",
     "text": [
      "Trimming extreme values in column `Fare`: below 0, or larger than 170.0\n",
      "Trimming extreme values in column `Trip Miles`: below 0, or larger than 65.24\n",
      "Trimming extreme values in column `Trip Seconds`: below 0, or larger than 8608.0\n"
     ]
    }
   ],
   "source": [
    "# remove rows w/o fare labels \n",
    "trip_cleaned = trip.loc[~trip.Fare.isnull()].copy() \n",
    "\n",
    "# filter extreme outlier (high tendency of data entry error)\n",
    "trip_cleaned = filter_outlier(trip_cleaned, \"Fare\", clip=(0, sys.maxsize))\n",
    "trip_cleaned = filter_outlier(trip_cleaned, \"Trip Miles\", clip=(0, sys.maxsize)) # clip left\n",
    "trip_cleaned = filter_outlier(trip_cleaned, \"Trip Seconds\", clip=(0, sys.maxsize)) # clip left"
   ]
  },
  {
   "cell_type": "markdown",
   "id": "65fc9086-7777-4412-8c56-f4caea42137b",
   "metadata": {},
   "source": [
    "***"
   ]
  },
  {
   "cell_type": "markdown",
   "id": "3ea688f4-4812-41ee-afb8-56007851228c",
   "metadata": {},
   "source": [
    "# Feature Engineering"
   ]
  },
  {
   "cell_type": "code",
   "execution_count": 5,
   "id": "b0bf788c-310f-4ccd-be1f-8a07087ce8e9",
   "metadata": {},
   "outputs": [],
   "source": [
    "def get_geohash(lat, lon, precision=7):\n",
    "    \"\"\"\n",
    "    Convert latitude, longitude to geohash\n",
    "    \"\"\"\n",
    "    if pd.notnull(lat) and pd.notnull(lat):\n",
    "        return geohashlite.encode(lat,lon ,precision)\n",
    "    else:\n",
    "        return None"
   ]
  },
  {
   "cell_type": "markdown",
   "id": "86157cbc-9e7d-476c-be75-377574b2ef91",
   "metadata": {},
   "source": [
    "## Feature: Demand score\n",
    "Reminder: Ensure no data leak (aggregated data score should not appear in test period)"
   ]
  },
  {
   "cell_type": "code",
   "execution_count": 6,
   "id": "13ae3745-42fe-402c-a0fe-c1087ee11206",
   "metadata": {},
   "outputs": [],
   "source": [
    "def gen_demand_score(df):\n",
    "    \"\"\"\n",
    "    Generate the table for demand_score(day_of_week, hour, geohash)\n",
    "        > higher score means higher demand\n",
    "    \"\"\"\n",
    "    print(\"Generating demand score ...\")\n",
    "    \n",
    "    REQUIRED_COLS = [\"Trip ID\", \"Pickup Centroid Latitude\", \"Pickup Centroid Longitude\", \"Trip Start Timestamp\"]\n",
    "    assert all(c in df.columns for c in REQUIRED_COLS), f\"Did not have all the required columns: {REQUIRED_COLS}\"\n",
    "    \n",
    "    # transform table to get the necessary metadata\n",
    "    df = df.loc[:, REQUIRED_COLS].dropna().copy()\n",
    "    df['day_of_week'] = df['Trip Start Timestamp'].map(lambda x: int(datetime.strftime(x,\"%w\")))\n",
    "    df['hour'] = df['Trip Start Timestamp'].map(lambda x: int(datetime.strftime(x,\"%-H\")))\n",
    "    df['geohash'] = df.apply(lambda x: get_geohash(x['Pickup Centroid Latitude'], x['Pickup Centroid Longitude']),axis=1)\n",
    "    \n",
    "    # aggregate to get scores \n",
    "    pickup_demand_score = df.groupby([\"day_of_week\", \"hour\", \"geohash\"])['Trip ID'].count().reset_index(name=\"num_trips\") # \n",
    "    pickup_demand_score['demand_score'] = (pickup_demand_score.num_trips - pickup_demand_score.num_trips.mean()) / pickup_demand_score.num_trips.std() # normalise\n",
    "    \n",
    "    return pickup_demand_score"
   ]
  },
  {
   "cell_type": "code",
   "execution_count": 10,
   "id": "a99892ae-843c-4cb7-b6af-62ee2c5453fb",
   "metadata": {},
   "outputs": [
    {
     "name": "stdout",
     "output_type": "stream",
     "text": [
      "Generating demand score ...\n"
     ]
    },
    {
     "data": {
      "text/html": [
       "<div>\n",
       "<style scoped>\n",
       "    .dataframe tbody tr th:only-of-type {\n",
       "        vertical-align: middle;\n",
       "    }\n",
       "\n",
       "    .dataframe tbody tr th {\n",
       "        vertical-align: top;\n",
       "    }\n",
       "\n",
       "    .dataframe thead th {\n",
       "        text-align: right;\n",
       "    }\n",
       "</style>\n",
       "<table border=\"1\" class=\"dataframe\">\n",
       "  <thead>\n",
       "    <tr style=\"text-align: right;\">\n",
       "      <th></th>\n",
       "      <th>day_of_week</th>\n",
       "      <th>hour</th>\n",
       "      <th>geohash</th>\n",
       "      <th>num_trips</th>\n",
       "      <th>demand_score</th>\n",
       "    </tr>\n",
       "  </thead>\n",
       "  <tbody>\n",
       "    <tr>\n",
       "      <th>1304</th>\n",
       "      <td>0</td>\n",
       "      <td>19</td>\n",
       "      <td>dp3qz6r</td>\n",
       "      <td>276</td>\n",
       "      <td>10.487691</td>\n",
       "    </tr>\n",
       "    <tr>\n",
       "      <th>1379</th>\n",
       "      <td>0</td>\n",
       "      <td>20</td>\n",
       "      <td>dp3qz6r</td>\n",
       "      <td>271</td>\n",
       "      <td>10.288883</td>\n",
       "    </tr>\n",
       "    <tr>\n",
       "      <th>1222</th>\n",
       "      <td>0</td>\n",
       "      <td>18</td>\n",
       "      <td>dp3qz6r</td>\n",
       "      <td>261</td>\n",
       "      <td>9.891267</td>\n",
       "    </tr>\n",
       "    <tr>\n",
       "      <th>10079</th>\n",
       "      <td>5</td>\n",
       "      <td>16</td>\n",
       "      <td>dp3wmge</td>\n",
       "      <td>258</td>\n",
       "      <td>9.771982</td>\n",
       "    </tr>\n",
       "    <tr>\n",
       "      <th>10176</th>\n",
       "      <td>5</td>\n",
       "      <td>17</td>\n",
       "      <td>dp3wmge</td>\n",
       "      <td>254</td>\n",
       "      <td>9.612936</td>\n",
       "    </tr>\n",
       "  </tbody>\n",
       "</table>\n",
       "</div>"
      ],
      "text/plain": [
       "       day_of_week  hour  geohash  num_trips  demand_score\n",
       "1304             0    19  dp3qz6r        276     10.487691\n",
       "1379             0    20  dp3qz6r        271     10.288883\n",
       "1222             0    18  dp3qz6r        261      9.891267\n",
       "10079            5    16  dp3wmge        258      9.771982\n",
       "10176            5    17  dp3wmge        254      9.612936"
      ]
     },
     "execution_count": 10,
     "metadata": {},
     "output_type": "execute_result"
    }
   ],
   "source": [
    "# sanity check\n",
    "gen_demand_score(trip_cleaned.sample(frac=0.05)).sort_values(\"demand_score\", ascending=False).head()"
   ]
  },
  {
   "cell_type": "markdown",
   "id": "675a3429-a943-4469-84a1-778112c7ca9f",
   "metadata": {},
   "source": [
    "## Feature: Supply score"
   ]
  },
  {
   "cell_type": "code",
   "execution_count": 8,
   "id": "d670882c-5faf-47fb-97c4-53ffa79b4baa",
   "metadata": {},
   "outputs": [],
   "source": [
    "def gen_supply_score(df):\n",
    "    \"\"\"\n",
    "    Generate the table for supply_score(day_of_week, hour, geohash)\n",
    "        > higher means supply is higher\n",
    "    \"\"\"\n",
    "    print(\"Generating supply score ...\")\n",
    "    \n",
    "    REQUIRED_COLS = [\"Taxi ID\", \"Dropoff Centroid Latitude\", \"Dropoff Centroid Longitude\", \"Trip Start Timestamp\"]\n",
    "    assert all(c in df.columns for c in REQUIRED_COLS), f\"Did not have all the required columns: {REQUIRED_COLS}\"\n",
    "    \n",
    "    # transform table to get the necessary metadata\n",
    "    df = df.loc[:, [\"Taxi ID\", \"Dropoff Centroid Latitude\", \"Dropoff Centroid Longitude\", \"Trip Start Timestamp\"]].dropna().copy()\n",
    "    df['day_of_week'] = df['Trip Start Timestamp'].map(lambda x: int(datetime.strftime(x,\"%w\")))\n",
    "    df['hour'] = df['Trip Start Timestamp'].map(lambda x: int(datetime.strftime(x,\"%-H\")))\n",
    "    df['geohash'] = df.apply(lambda x: get_geohash(x['Dropoff Centroid Latitude'], x['Dropoff Centroid Longitude']),axis=1)\n",
    "    \n",
    "    # aggregate to get scores \n",
    "    pickup_supply_score = df.groupby([\"day_of_week\", \"hour\", \"geohash\"])['Taxi ID'].agg(n_drivers=lambda x: len(set(x))).reset_index()\n",
    "    pickup_supply_score['supply_score'] = (pickup_supply_score.n_drivers - pickup_supply_score.n_drivers.mean()) / pickup_supply_score.n_drivers.std() # normalise\n",
    "    \n",
    "    return pickup_supply_score"
   ]
  },
  {
   "cell_type": "code",
   "execution_count": 17,
   "id": "b0ff2fc2-eba3-416f-b0a3-f2f28eb92191",
   "metadata": {
    "tags": []
   },
   "outputs": [
    {
     "name": "stdout",
     "output_type": "stream",
     "text": [
      "Generating supply score ...\n",
      "   hour  day_of_week  geohash  n_drivers  supply_score\n",
      "0     0            6  dp3wvp8         94      5.026376\n",
      "1     1            6  dp3wvp8         78      4.071988\n",
      "2     2            6  dp3wvp8         62      3.117600\n",
      "3     3            6  dp3wvp8         32      1.328123\n",
      "4     4            6  dp3wvp8         27      1.029877\n"
     ]
    },
    {
     "data": {
      "text/plain": [
       "Text(0.5, 1.0, 'Supply Score')"
      ]
     },
     "execution_count": 17,
     "metadata": {},
     "output_type": "execute_result"
    },
    {
     "data": {
      "image/png": "[encoded data removed]",
      "text/plain": [
       "<Figure size 500x200 with 1 Axes>"
      ]
     },
     "metadata": {},
     "output_type": "display_data"
    }
   ],
   "source": [
    "# sanity check\n",
    "temp = gen_supply_score(trip_cleaned.sample(frac=0.05)).groupby(\"hour\").max().reset_index()\n",
    "print(temp.head())\n",
    "\n",
    "temp['hour'] = temp.hour.astype(int)\n",
    "plt.rcParams[\"figure.figsize\"] = (5,2)\n",
    "temp.sort_values(\"hour\").plot.line(x='hour', y='supply_score')\n",
    "plt.title(\"Supply Score\")"
   ]
  },
  {
   "cell_type": "markdown",
   "id": "0301033a-9c24-49c1-9873-ae17c1c66aba",
   "metadata": {},
   "source": [
    "Observation:\n",
    "* Scores seems reasonable - peaked during working hour and dropped during midnight"
   ]
  },
  {
   "cell_type": "markdown",
   "id": "0c2c4008-51e2-4329-a063-30c02ce4efca",
   "metadata": {
    "tags": []
   },
   "source": [
    "## Feature: Traffic score \n",
    "Reminder: Ensure no data leak (aggregated data score should not appear in test period)"
   ]
  },
  {
   "cell_type": "code",
   "execution_count": 18,
   "id": "299e3e60-d754-4a4c-affe-9ba2ebbc9806",
   "metadata": {},
   "outputs": [],
   "source": [
    "def gen_traffic_score(df):\n",
    "    \"\"\"\n",
    "    Generate the table for traffic_score(day_of_week, hour)\n",
    "        > higher means traffic is less congested\n",
    "        \n",
    "    P/S: Extension work - call Maps API to get the route from pickup to dropoff (so that traffic can be scored on a roadID level)\n",
    "    \"\"\"\n",
    "    print(\"Generating traffic score ...\")\n",
    "    \n",
    "    REQUIRED_COLS = [\"Trip ID\", \"Trip Start Timestamp\", \"Trip Seconds\", \"Trip Miles\"]\n",
    "    assert all(c in df.columns for c in REQUIRED_COLS), f\"Did not have all the required columns: {REQUIRED_COLS}\"\n",
    "    \n",
    "    # transform table to get the necessary metadata\n",
    "    df = df.loc[:, REQUIRED_COLS].dropna().copy()\n",
    "    df = df.loc[df['Trip Seconds']!=0, ]\n",
    "    df['day_of_week'] = df['Trip Start Timestamp'].map(lambda x: int(datetime.strftime(x,\"%w\")))\n",
    "    df['hour'] = df['Trip Start Timestamp'].map(lambda x: int(datetime.strftime(x,\"%-H\")))\n",
    "    df['avg_trip_speed'] = df['Trip Miles'] / df['Trip Seconds']\n",
    "\n",
    "    \n",
    "    # aggregate to get scores \n",
    "    traffic_score = df.groupby([\"day_of_week\", \"hour\"])\\\n",
    "    .agg(n_samples = (\"avg_trip_speed\", \"count\"), traffic_score = (\"avg_trip_speed\", \"mean\")).reset_index()\n",
    "    \n",
    "    # filter out states w/o sufficient samples\n",
    "    traffic_score = traffic_score.loc[traffic_score.n_samples >= 30, traffic_score.columns!=\"n_samples\"].reset_index(drop=True)\n",
    "    \n",
    "    return traffic_score"
   ]
  },
  {
   "cell_type": "code",
   "execution_count": 21,
   "id": "58a618c1-d72a-4cc4-b0fc-12b941110bff",
   "metadata": {},
   "outputs": [
    {
     "name": "stdout",
     "output_type": "stream",
     "text": [
      "Generating traffic score ...\n"
     ]
    },
    {
     "data": {
      "text/html": [
       "<div>\n",
       "<style scoped>\n",
       "    .dataframe tbody tr th:only-of-type {\n",
       "        vertical-align: middle;\n",
       "    }\n",
       "\n",
       "    .dataframe tbody tr th {\n",
       "        vertical-align: top;\n",
       "    }\n",
       "\n",
       "    .dataframe thead th {\n",
       "        text-align: right;\n",
       "    }\n",
       "</style>\n",
       "<table border=\"1\" class=\"dataframe\">\n",
       "  <thead>\n",
       "    <tr style=\"text-align: right;\">\n",
       "      <th></th>\n",
       "      <th>day_of_week</th>\n",
       "      <th>hour</th>\n",
       "      <th>traffic_score</th>\n",
       "    </tr>\n",
       "  </thead>\n",
       "  <tbody>\n",
       "    <tr>\n",
       "      <th>149</th>\n",
       "      <td>6</td>\n",
       "      <td>5</td>\n",
       "      <td>0.036008</td>\n",
       "    </tr>\n",
       "    <tr>\n",
       "      <th>46</th>\n",
       "      <td>1</td>\n",
       "      <td>22</td>\n",
       "      <td>0.020970</td>\n",
       "    </tr>\n",
       "    <tr>\n",
       "      <th>95</th>\n",
       "      <td>3</td>\n",
       "      <td>23</td>\n",
       "      <td>0.015931</td>\n",
       "    </tr>\n",
       "    <tr>\n",
       "      <th>121</th>\n",
       "      <td>5</td>\n",
       "      <td>1</td>\n",
       "      <td>0.014406</td>\n",
       "    </tr>\n",
       "    <tr>\n",
       "      <th>84</th>\n",
       "      <td>3</td>\n",
       "      <td>12</td>\n",
       "      <td>0.012402</td>\n",
       "    </tr>\n",
       "  </tbody>\n",
       "</table>\n",
       "</div>"
      ],
      "text/plain": [
       "     day_of_week  hour  traffic_score\n",
       "149            6     5       0.036008\n",
       "46             1    22       0.020970\n",
       "95             3    23       0.015931\n",
       "121            5     1       0.014406\n",
       "84             3    12       0.012402"
      ]
     },
     "execution_count": 21,
     "metadata": {},
     "output_type": "execute_result"
    }
   ],
   "source": [
    "# sanity check\n",
    "gen_traffic_score(trip_cleaned.sample(frac=0.05)).sort_values(\"traffic_score\", ascending=False).head()"
   ]
  },
  {
   "cell_type": "markdown",
   "id": "c64c7bee-a1ec-4869-9b34-0c82e3eeabe0",
   "metadata": {},
   "source": [
    "****"
   ]
  },
  {
   "cell_type": "markdown",
   "id": "e1e6a1ff-e2ce-453c-ae59-74c6fa4e3d0c",
   "metadata": {},
   "source": [
    "# Modelling"
   ]
  },
  {
   "cell_type": "code",
   "execution_count": 22,
   "id": "df6f71ba-b09b-448a-b469-172b11d0c4b6",
   "metadata": {},
   "outputs": [],
   "source": [
    "def add_trip_score(df, demand_score, supply_score, traffic_score):\n",
    "    \"\"\"\n",
    "    Add demand, supply, traffic scores to a booking info.\n",
    "    \"\"\"\n",
    "    \n",
    "    BOOKING_COLS = [\"Trip Start Timestamp\", \"Pickup Centroid Latitude\", \"Pickup Centroid Longitude\", \"Dropoff Centroid Latitude\", \"Dropoff Centroid Longitude\"]\n",
    "    assert all(c in df.columns for c in BOOKING_COLS), f\"Did not have all the required columns: {BOOKING_COLS}\"\n",
    "    \n",
    "    # transform to get required metadata\n",
    "    df = df.copy()\n",
    "    df['day_of_week'] = df['Trip Start Timestamp'].map(lambda x: int(datetime.strftime(x,\"%w\")))\n",
    "    df['hour'] = df['Trip Start Timestamp'].map(lambda x: int(datetime.strftime(x,\"%-H\")))\n",
    "    df['pickup_geohash'] = df.apply(lambda x: get_geohash(x['Pickup Centroid Latitude'], x['Pickup Centroid Longitude']),axis=1)\n",
    "    df['dropoff_geohash'] = df.apply(lambda x: get_geohash(x['Dropoff Centroid Latitude'], x['Dropoff Centroid Longitude']),axis=1)\n",
    "    \n",
    "    # left join to add scores\n",
    "    df = pd.merge(df, demand_score, \n",
    "                  left_on=[\"day_of_week\", \"hour\", \"pickup_geohash\"], right_on=[\"day_of_week\", \"hour\", \"geohash\"], how=\"left\")\n",
    "    df = pd.merge(df, supply_score, \n",
    "                  left_on=[\"day_of_week\", \"hour\", \"pickup_geohash\"], right_on=[\"day_of_week\", \"hour\", \"geohash\"], how=\"left\")\n",
    "    df = pd.merge(df, traffic_score, \n",
    "                  on=[\"day_of_week\", \"hour\"], how=\"left\")\n",
    "    \n",
    "    # impute missing values \n",
    "    mean_demand_score = demand_score['demand_score'].mean()\n",
    "    mean_supply_score = supply_score['supply_score'].mean()\n",
    "    mean_traffic_score = traffic_score['traffic_score'].mean()\n",
    "    \n",
    "    df['demand_score'] = df.demand_score.fillna(mean_demand_score)\n",
    "    df['supply_score'] = df.supply_score.fillna(mean_demand_score)\n",
    "    df['traffic_score'] = df.traffic_score.fillna(mean_demand_score)\n",
    "    \n",
    "    return df"
   ]
  },
  {
   "cell_type": "code",
   "execution_count": 23,
   "id": "5e4d75df-2434-43e0-953a-fc1cb25ffa42",
   "metadata": {
    "tags": []
   },
   "outputs": [
    {
     "name": "stdout",
     "output_type": "stream",
     "text": [
      "---- Train-test for CV Fold 1 -----\n",
      "Generating demand score ...\n",
      "Generating supply score ...\n",
      "Generating traffic score ...\n",
      "---- Train-test for CV Fold 2 -----\n",
      "Generating demand score ...\n",
      "Generating supply score ...\n",
      "Generating traffic score ...\n",
      "---- Train-test for CV Fold 3 -----\n",
      "Generating demand score ...\n",
      "Generating supply score ...\n",
      "Generating traffic score ...\n",
      "---- Train-test for CV Fold 4 -----\n",
      "Generating demand score ...\n",
      "Generating supply score ...\n",
      "Generating traffic score ...\n",
      "---- Train-test for CV Fold 5 -----\n",
      "Generating demand score ...\n",
      "Generating supply score ...\n",
      "Generating traffic score ...\n"
     ]
    }
   ],
   "source": [
    "feat_cols_baseline = [\"Trip Miles\", \"day_of_week\", \"hour\"]\n",
    "feat_cols_v1 = [\"Trip Miles\",\"day_of_week\", \"hour\", \"demand_score\", \"supply_score\", \"traffic_score\"]\n",
    "\n",
    "cv_mse_baseline = []\n",
    "cv_mse_v1 = []\n",
    "\n",
    "tscv = TimeSeriesSplit(n_splits=5, )\n",
    "trip_cleaned = trip_cleaned.sort_values(\"Trip Start Timestamp\").reset_index(drop=True)\n",
    "\n",
    "# training-testing for 5 CV folds \n",
    "for i, (train_index, test_index) in enumerate(tscv.split(trip_cleaned)):\n",
    "    print(f\"---- Train-test for CV Fold {i+1} -----\")\n",
    "    ############### Training ###############\n",
    "    train = trip_cleaned.iloc[train_index, :]\n",
    "    \n",
    "    # create score table\n",
    "    demand_score_table = gen_demand_score(train)\n",
    "    supply_score_table = gen_supply_score(train)\n",
    "    traffic_score_table = gen_traffic_score(train)\n",
    "    \n",
    "    # add demand, supply, traffic score\n",
    "    train = add_trip_score(train, demand_score_table, supply_score_table, traffic_score_table)\n",
    "    \n",
    "    # model training\n",
    "    X_train = train.loc[:, :]\n",
    "    y_train = train.loc[:, \"Fare\"]\n",
    "    \n",
    "    # fit\n",
    "    # [v0] baseline \n",
    "    model_baseline = XGBRegressor()\n",
    "    model_baseline.fit(X_train.loc[:, feat_cols_baseline], y_train)\n",
    "    \n",
    "    # [v1] (with supply, demand, traffic scores)\n",
    "    model_v1 = XGBRegressor()\n",
    "    model_v1.fit(X_train.loc[:, feat_cols_v1], y_train)\n",
    "    \n",
    "    ############### Testing ############### \n",
    "    test = trip_cleaned.iloc[test_index, :]\n",
    "    \n",
    "    # add demand, supply, traffic score\n",
    "    test = add_trip_score(test, demand_score_table, supply_score_table, traffic_score_table)\n",
    "    \n",
    "    # model testing\n",
    "    X_test = test.loc[:, :]\n",
    "    y_test = test.loc[:, \"Fare\"]\n",
    "    \n",
    "    y_pred_baseline = model_baseline.predict(X_test.loc[:, feat_cols_baseline])\n",
    "    y_pred_v1 = model_v1.predict(X_test.loc[:, feat_cols_v1])\n",
    "    \n",
    "    cv_mse_baseline.append(mean_squared_error(y_test, y_pred_baseline))\n",
    "    cv_mse_v1.append(mean_squared_error(y_test, y_pred_v1))"
   ]
  },
  {
   "cell_type": "markdown",
   "id": "6950b86d-0c4b-4f1f-85fa-920f713eb96e",
   "metadata": {},
   "source": [
    "# Results & Error Analysis"
   ]
  },
  {
   "cell_type": "code",
   "execution_count": 24,
   "id": "b183da56-54a5-48b8-8863-6823b5977dfa",
   "metadata": {},
   "outputs": [],
   "source": [
    "res_df = pd.DataFrame()\n",
    "res_df['baseline'] = cv_mse_baseline\n",
    "res_df['v1'] = cv_mse_v1\n",
    "res_df['cv_fold'] = list(range(1, res_df.shape[0] + 1))\n",
    "\n",
    "res_df = pd.melt(res_df, id_vars=['cv_fold'], value_vars=['baseline', 'v1']).rename({\"value\": \"mse\"}, axis=1)"
   ]
  },
  {
   "cell_type": "code",
   "execution_count": 27,
   "id": "a40f726a-2c18-427f-af7c-4815f6d85cd1",
   "metadata": {},
   "outputs": [
    {
     "data": {
      "image/png": "[encoded data removed]",
      "text/plain": [
       "<Figure size 500x300 with 1 Axes>"
      ]
     },
     "metadata": {},
     "output_type": "display_data"
    }
   ],
   "source": [
    "palette = {\n",
    "    'baseline': '#C3C3C3',\n",
    "    'v1':'#83FF33'\n",
    "}\n",
    "\n",
    "plt.rcParams[\"figure.figsize\"] = (5,3)\n",
    "sns.barplot(res_df, x='cv_fold', y='mse', hue=\"variable\", palette=palette)\n",
    "plt.title(\"Model Performance Improvement (lower is better)\")\n",
    "plt.ylabel(\"MSE (mean square error)\")\n",
    "plt.legend(bbox_to_anchor= (0.9, 1.0))\n",
    "plt.savefig(\"figure/model_performance.png\", bbox_inches=\"tight\")"
   ]
  },
  {
   "cell_type": "markdown",
   "id": "1683d319-6261-4c01-af75-dfe76116daaa",
   "metadata": {},
   "source": [
    "**Observation**\n",
    "1. v1 model is consistently better than baseline\n",
    "2. Downward trend as data increase"
   ]
  },
  {
   "cell_type": "code",
   "execution_count": null,
   "id": "eec917ae-59ba-416d-8737-86e47135956c",
   "metadata": {},
   "outputs": [],
   "source": []
  }
 ],
 "metadata": {
  "kernelspec": {
   "display_name": "Python 3 (ipykernel)",
   "language": "python",
   "name": "python3"
  },
  "language_info": {
   "codemirror_mode": {
    "name": "ipython",
    "version": 3
   },
   "file_extension": ".py",
   "mimetype": "text/x-python",
   "name": "python",
   "nbconvert_exporter": "python",
   "pygments_lexer": "ipython3",
   "version": "3.8.8"
  }
 },
 "nbformat": 4,
 "nbformat_minor": 5
}
