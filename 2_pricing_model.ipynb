{
 "cells": [
  {
   "cell_type": "code",
   "execution_count": 1,
   "id": "57b39a61-791f-42ba-9066-ef0c6cde04e1",
   "metadata": {},
   "outputs": [],
   "source": [
    "import pandas as pd"
   ]
  },
  {
   "cell_type": "code",
   "execution_count": 3,
   "id": "f3918108-ff58-4b90-ae0c-13ec61109984",
   "metadata": {},
   "outputs": [],
   "source": [
    "trip = pd.read_csv(\"data/Taxi_Trips_-_2021.csv\")"
   ]
  },
  {
   "cell_type": "code",
   "execution_count": null,
   "id": "1d3e663a-7a74-4631-8fd4-a8b0958cb567",
   "metadata": {},
   "outputs": [],
   "source": [
    "trip"
   ]
  }
 ],
 "metadata": {
  "kernelspec": {
   "display_name": "Python 3 (ipykernel)",
   "language": "python",
   "name": "python3"
  },
  "language_info": {
   "codemirror_mode": {
    "name": "ipython",
    "version": 3
   },
   "file_extension": ".py",
   "mimetype": "text/x-python",
   "name": "python",
   "nbconvert_exporter": "python",
   "pygments_lexer": "ipython3",
   "version": "3.8.8"
  }
 },
 "nbformat": 4,
 "nbformat_minor": 5
}
